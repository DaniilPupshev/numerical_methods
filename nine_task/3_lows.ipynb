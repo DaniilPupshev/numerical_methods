{
 "cells": [
  {
   "cell_type": "markdown",
   "id": "959a3636-e9df-43b8-963d-cf5ab8c2c1f1",
   "metadata": {},
   "source": [
    "Гиперболический (y=a+(b/x))"
   ]
  },
  {
   "cell_type": "markdown",
   "id": "95f1c9c1-884e-4eb6-9913-14ad0c908201",
   "metadata": {},
   "source": [
    "Произведем промежуточные вычисления для закона 3:"
   ]
  },
  {
   "cell_type": "code",
   "execution_count": 17,
   "id": "5ee0da35-0ffb-4ac6-9f76-5d83a32b4f6d",
   "metadata": {},
   "outputs": [
    {
     "name": "stdout",
     "output_type": "stream",
     "text": [
      "Промежуточный рассчет:\n",
      "10*a**2 + 8.52655378812912*a*b + 43.34*a + 2.32898756240689*b**2 + 25.4869739353684*b + 72.1837\n"
     ]
    }
   ],
   "source": [
    "import sympy as sp\n",
    "\n",
    "X = [1.09, 1.41, 1.78, 2.19, 2.63, 3.16, 3.72, 4.16, 4.53, 5.22]\n",
    "Y = [-5.0,-4.22, -3.44, -2.81, -2.22, -1.63, -1.13, -0.75, -0.47, 0.0]\n",
    "\n",
    "F = 0\n",
    "\n",
    "a = sp.Symbol('a')\n",
    "b = sp.Symbol('b')\n",
    "\n",
    "for i in range(len(X)):\n",
    "    F += ((a + (b / X[i]) - Y[i]) ** 2) # Закон под номером 3\n",
    "print(f'Промежуточный рассчет:\\n{sp.expand(F)}')"
   ]
  },
  {
   "cell_type": "code",
   "execution_count": 19,
   "id": "33d38faf-b304-42ef-a685-c8b275318233",
   "metadata": {},
   "outputs": [
    {
     "name": "stdout",
     "output_type": "stream",
     "text": [
      "Итого, имеем систему:\n",
      "/\n",
      "| 20*a + 8.52655378812912*b + 43.34 = 0\n",
      "< 8.52655378812912*a + 4.65797512481378*b + 25.4869739353684 = 0\n",
      "|\n",
      "\\\n"
     ]
    }
   ],
   "source": [
    "# ==== Найдем производные относительно каждой неизвестной ====\n",
    "f = 10*a**2 + 8.52655378812912*a*b + 43.34*a + 2.32898756240689*b**2 + 25.4869739353684*b + 72.1837\n",
    "\n",
    "der_a = sp.diff(f, a)\n",
    "der_b = sp.diff(f, b)\n",
    "\n",
    "print(f'Итого, имеем систему:\\n/\\n| {der_a} = 0\\n< {der_b} = 0\\n|\\n\\\\')"
   ]
  },
  {
   "cell_type": "code",
   "execution_count": 25,
   "id": "57ef8adb-b59f-4c37-a2ef-8f2cebf3fbb8",
   "metadata": {},
   "outputs": [
    {
     "name": "stdout",
     "output_type": "stream",
     "text": [
      "⎡1  0  0.754711013199889⎤\n",
      "⎢                       ⎥\n",
      "⎣0  1  -6.8532049073978 ⎦\n",
      "\n",
      "Для закона номер 1:\n",
      "a = 0.754711013199889\n",
      "b = -6.85320490739780\n",
      "\n",
      "\n",
      "Итого, вид закона: y = 0.754711013199889 + (-6.85320490739780)/x\n"
     ]
    }
   ],
   "source": [
    "from sympy import pprint, Matrix\n",
    "\n",
    "A_B = Matrix([\n",
    "    [20.0, 8.52655378812912, -43.34],\n",
    "    [8.52655378812912, 4.65797512481378, -25.4869739353684],\n",
    "])\n",
    "\n",
    "step_matrix = A_B.rref()[0]\n",
    "pprint(step_matrix)\n",
    "\n",
    "answer = []\n",
    "for i in range(2, step_matrix.shape[0] * step_matrix.shape[1], 3):\n",
    "    answer.append(step_matrix[i])\n",
    "\n",
    "a, b = answer\n",
    "\n",
    "# Выводим ответ\n",
    "print(f'\\nДля закона номер 1:\\na = {a}\\nb = {b}')\n",
    "print(f'\\n\\nИтого, вид закона: y = {a} + ({b})/x')"
   ]
  }
 ],
 "metadata": {
  "kernelspec": {
   "display_name": "Python [conda env:base] *",
   "language": "python",
   "name": "conda-base-py"
  },
  "language_info": {
   "codemirror_mode": {
    "name": "ipython",
    "version": 3
   },
   "file_extension": ".py",
   "mimetype": "text/x-python",
   "name": "python",
   "nbconvert_exporter": "python",
   "pygments_lexer": "ipython3",
   "version": "3.12.7"
  }
 },
 "nbformat": 4,
 "nbformat_minor": 5
}
