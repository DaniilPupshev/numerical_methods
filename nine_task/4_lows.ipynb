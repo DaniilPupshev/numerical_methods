{
 "cells": [
  {
   "cell_type": "markdown",
   "id": "b5088eb6-881f-42d5-844f-e122f8d13a35",
   "metadata": {},
   "source": [
    "Логарифмический (y=a+bln(x))"
   ]
  },
  {
   "cell_type": "code",
   "execution_count": null,
   "id": "4fe923db-1c45-4bed-9277-19e81887945e",
   "metadata": {},
   "outputs": [],
   "source": [
    "Произведем промежуточные вычисления для закона 3:"
   ]
  },
  {
   "cell_type": "code",
   "execution_count": 4,
   "id": "a53d0775-e4b4-470d-9fbb-edb2ec80681e",
   "metadata": {},
   "outputs": [
    {
     "name": "stdout",
     "output_type": "stream",
     "text": [
      "Промежуточный рассчет:\n",
      "10*a**2 + 19.6205925329995*a*b + 43.34*a + 12.1023303774194*b**2 + 26.7059405021034*b + 72.1837\n"
     ]
    }
   ],
   "source": [
    "import sympy as sp\n",
    "import math\n",
    "\n",
    "X = [1.09, 1.41, 1.78, 2.19, 2.63, 3.16, 3.72, 4.16, 4.53, 5.22]\n",
    "Y = [-5.0,-4.22, -3.44, -2.81, -2.22, -1.63, -1.13, -0.75, -0.47, 0.0]\n",
    "\n",
    "F = 0\n",
    "\n",
    "a = sp.Symbol('a')\n",
    "b = sp.Symbol('b')\n",
    "\n",
    "for i in range(len(X)):\n",
    "    F += ((a + b * math.log(X[i]) - Y[i]) ** 2) # Закон под номером 4\n",
    "print(f'Промежуточный рассчет:\\n{sp.expand(F)}')"
   ]
  },
  {
   "cell_type": "code",
   "execution_count": 6,
   "id": "0646d74a-7b70-4a74-85a7-2286648e256d",
   "metadata": {},
   "outputs": [
    {
     "name": "stdout",
     "output_type": "stream",
     "text": [
      "Итого, имеем систему:\n",
      "/\n",
      "| 20*a + 19.6205925329995*b + 43.34 = 0\n",
      "< 19.6205925329995*a + 24.2046607548388*b + 26.7059405021034 = 0\n",
      "|\n",
      "\\\n"
     ]
    }
   ],
   "source": [
    "# ==== Найдем производные относительно каждой неизвестной ====\n",
    "f = 10*a**2 + 19.6205925329995*a*b + 43.34*a + 12.1023303774194*b**2 + 26.7059405021034*b + 72.1837\n",
    "\n",
    "der_a = sp.diff(f, a)\n",
    "der_b = sp.diff(f, b)\n",
    "\n",
    "print(f'Итого, имеем систему:\\n/\\n| {der_a} = 0\\n< {der_b} = 0\\n|\\n\\\\')"
   ]
  },
  {
   "cell_type": "code",
   "execution_count": 10,
   "id": "38524840-b8f5-454a-b725-ec0209532c37",
   "metadata": {},
   "outputs": [
    {
     "name": "stdout",
     "output_type": "stream",
     "text": [
      "⎡1  0  -5.29675293078252⎤\n",
      "⎢                       ⎥\n",
      "⎣0  1  3.19027361229652 ⎦\n",
      "\n",
      "Для закона номер 1:\n",
      "a = -5.29675293078252\n",
      "b = 3.19027361229652\n",
      "\n",
      "\n",
      "Итого, вид закона: y = -5.29675293078252 + (3.19027361229652) * ln(x)\n"
     ]
    }
   ],
   "source": [
    "from sympy import pprint, Matrix\n",
    "\n",
    "A_B = Matrix([\n",
    "    [20.0, 19.6205925329995, -43.34],\n",
    "    [19.6205925329995, 24.2046607548388, -26.7059405021034],\n",
    "])\n",
    "\n",
    "step_matrix = A_B.rref()[0]\n",
    "pprint(step_matrix)\n",
    "\n",
    "answer = []\n",
    "for i in range(2, step_matrix.shape[0] * step_matrix.shape[1], 3):\n",
    "    answer.append(step_matrix[i])\n",
    "\n",
    "a, b = answer\n",
    "\n",
    "# Выводим ответ\n",
    "print(f'\\nДля закона номер 1:\\na = {a}\\nb = {b}')\n",
    "print(f'\\n\\nИтого, вид закона: y = {a} + ({b}) * ln(x)')"
   ]
  }
 ],
 "metadata": {
  "kernelspec": {
   "display_name": "Python [conda env:base] *",
   "language": "python",
   "name": "conda-base-py"
  },
  "language_info": {
   "codemirror_mode": {
    "name": "ipython",
    "version": 3
   },
   "file_extension": ".py",
   "mimetype": "text/x-python",
   "name": "python",
   "nbconvert_exporter": "python",
   "pygments_lexer": "ipython3",
   "version": "3.12.7"
  }
 },
 "nbformat": 4,
 "nbformat_minor": 5
}
