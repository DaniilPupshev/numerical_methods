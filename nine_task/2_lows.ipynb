{
 "cells": [
  {
   "cell_type": "markdown",
   "id": "7180695f-4b49-4c14-baf9-9cc121461120",
   "metadata": {},
   "source": [
    "Квадратичный (y=ax^2+bx+c)"
   ]
  },
  {
   "cell_type": "markdown",
   "id": "ece32542-cc61-41a6-9894-8dd777733f69",
   "metadata": {},
   "source": [
    "Произведем промежуточные вычисления для закона 2:"
   ]
  },
  {
   "cell_type": "code",
   "execution_count": 4,
   "id": "ffc46647-a14c-4cbb-8f30-0f5e5e279a73",
   "metadata": {},
   "outputs": [
    {
     "name": "stdout",
     "output_type": "stream",
     "text": [
      "Промежуточный рассчет:\n",
      "1840.52891525*a**2 + 857.307746*a*b + 213.913*a*с + 217.20016*a + 106.9565*b**2 + 59.78*b*с + 88.2388*b + 10*с**2 + 43.34*с + 72.1837\n"
     ]
    }
   ],
   "source": [
    "import sympy as sp\n",
    "\n",
    "X = [1.09, 1.41, 1.78, 2.19, 2.63, 3.16, 3.72, 4.16, 4.53, 5.22]\n",
    "Y = [-5.0,-4.22, -3.44, -2.81, -2.22, -1.63, -1.13, -0.75, -0.47, 0.0]\n",
    "\n",
    "F = 0\n",
    "\n",
    "a = sp.Symbol('a')\n",
    "b = sp.Symbol('b')\n",
    "с = sp.Symbol('с')\n",
    "\n",
    "for i in range(len(X)):\n",
    "    F += ((a * X[i] ** 2 + b * X[i] + с - Y[i]) ** 2) # Закон под номером 2\n",
    "print(f'Промежуточный рассчет:\\n{sp.expand(F)}')"
   ]
  },
  {
   "cell_type": "code",
   "execution_count": 6,
   "id": "b432d3d4-9334-48b1-a919-5c8b41326b0d",
   "metadata": {},
   "outputs": [
    {
     "name": "stdout",
     "output_type": "stream",
     "text": [
      "Итого, имеем систему:\n",
      "/\n",
      "| 3681.0578305*a + 857.307746*b + 213.913*с + 217.20016 = 0\n",
      "< 857.307746*a + 213.913*b + 59.78*с + 88.2388 = 0\n",
      "| 213.913*a + 59.78*b + 20*с + 43.34 = 0\n",
      "\\\n"
     ]
    }
   ],
   "source": [
    "# ==== Найдем производные относительно каждой неизвестной ====\n",
    "f = 1840.52891525*a**2 + 857.307746*a*b + 213.913*a*с + 217.20016*a + 106.9565*b**2 + 59.78*b*с + 88.2388*b + 10*с**2 + 43.34*с + 72.1837\n",
    "\n",
    "der_a = sp.diff(f, a)\n",
    "der_b = sp.diff(f, b)\n",
    "der_с = sp.diff(f, с)\n",
    "\n",
    "print(f'Итого, имеем систему:\\n/\\n| {der_a} = 0\\n< {der_b} = 0\\n| {der_с} = 0\\n\\\\')"
   ]
  },
  {
   "cell_type": "code",
   "execution_count": 12,
   "id": "6cb3ec57-73e0-46ee-a3ba-bd47849cf5a2",
   "metadata": {},
   "outputs": [
    {
     "name": "stdout",
     "output_type": "stream",
     "text": [
      "⎡1  0  0  -0.202523795964537⎤\n",
      "⎢                           ⎥\n",
      "⎢0  1  0   2.42513202824543 ⎥\n",
      "⎢                           ⎥\n",
      "⎣0  0  1  -7.24959599411749 ⎦\n",
      "\n",
      "Для закона номер 1:\n",
      "a = -0.202523795964537\n",
      "b = 2.42513202824543\n",
      "c = -7.24959599411749\n",
      "\n",
      "\n",
      "Итого, вид закона: y = -0.202523795964537x^2 + (2.42513202824543)x + (-7.24959599411749)\n"
     ]
    }
   ],
   "source": [
    "from sympy import pprint, Matrix\n",
    "\n",
    "A_B = Matrix([\n",
    "    [3681.0578305, 857.307746, 213.913, -217.20016],\n",
    "    [857.307746, 213.913, 59.78, -88.2388],\n",
    "    [213.913, 59.78, 20.0, -43.34],\n",
    "])\n",
    "\n",
    "step_matrix = A_B.rref()[0]\n",
    "pprint(step_matrix)\n",
    "\n",
    "answer = []\n",
    "for i in range(3, step_matrix.shape[0] * step_matrix.shape[1], 4):\n",
    "    answer.append(step_matrix[i])\n",
    "\n",
    "a, b, c = answer\n",
    "\n",
    "# Выводим ответ\n",
    "print(f'\\nДля закона номер 1:\\na = {a}\\nb = {b}\\nc = {c}')\n",
    "print(f'\\n\\nИтого, вид закона: y = {a}x^2 + ({b})x + ({c})')"
   ]
  }
 ],
 "metadata": {
  "kernelspec": {
   "display_name": "Python [conda env:base] *",
   "language": "python",
   "name": "conda-base-py"
  },
  "language_info": {
   "codemirror_mode": {
    "name": "ipython",
    "version": 3
   },
   "file_extension": ".py",
   "mimetype": "text/x-python",
   "name": "python",
   "nbconvert_exporter": "python",
   "pygments_lexer": "ipython3",
   "version": "3.12.7"
  }
 },
 "nbformat": 4,
 "nbformat_minor": 5
}
